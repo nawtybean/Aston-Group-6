{
 "cells": [
  {
   "cell_type": "markdown",
   "metadata": {
    "pycharm": {
     "name": "#%% md\n"
    }
   },
   "source": [
    "# Exercise 12.1\n",
    "\n",
    "Working with your team, answer the following questions:\n",
    "\n",
    "* how many reviews are there with missing ratings?\n",
    "* how many unique reviewers are there? How many unique movies?\n",
    "* how many reviews did each reviewer write on average?\n",
    "* how many reviews did each movie receive on average?\n",
    "* how many reviews are there with the score of 5? With the score of 1?\n",
    "* what is the distribution of mean scores of the movies? Use a histogram (df.hist) with 20 bin\n",
    "* what is the distribution of mean scores of the reviewers?"
   ]
  },
  {
   "cell_type": "code",
   "execution_count": 2,
   "metadata": {
    "collapsed": false,
    "jupyter": {
     "outputs_hidden": false
    },
    "pycharm": {
     "name": "#%%\n"
    }
   },
   "outputs": [
    {
     "name": "stdout",
     "output_type": "stream",
     "text": [
      "1.: There are no reviews with missing ratings.\n",
      "2.: There are 671 unique reviewers and 9066 unique movies.\n",
      "3.: Each user gave on average 149.04 reviews.\n",
      "4.: Each movie got 11.03 reviews on average.\n",
      "5.: There are 15095 5-score and 3326 1-score reviews\n",
      "6.: Distribution of mean scores over movies.\n",
      "7.: Distribution of mean scores over reviewer.\n"
     ]
    },
    {
     "data": {
      "image/png": "[encoded data removed]",
      "text/plain": [
       "<Figure size 432x288 with 1 Axes>"
      ]
     },
     "metadata": {
      "needs_background": "light"
     },
     "output_type": "display_data"
    },
    {
     "data": {
      "image/png": "[encoded data removed]",
      "text/plain": [
       "<Figure size 432x288 with 1 Axes>"
      ]
     },
     "metadata": {
      "needs_background": "light"
     },
     "output_type": "display_data"
    }
   ],
   "source": [
    "import numpy as np\n",
    "import pandas as pd\n",
    "%matplotlib inline\n",
    "\n",
    "df = pd.read_csv(\"movie-lens-ratings.csv\") #read the csv-file into a dataframe\n",
    "\n",
    "\n",
    "counted_ratings = df[\"rating\"].value_counts(dropna=False) #count numbers of all unique values including missing values\n",
    "counted_ratings = counted_ratings.sort_index(ascending=True) #sort the series ascending by the index (rating)\n",
    "#print(type(counted_ratings), \"\\n\", counted_ratings) #print out the counted ratings\n",
    "if not None in counted_ratings.index: #if no index with None exists, then not a single none/NaN has been in the ratings column\n",
    "    print(\"1.: There are no reviews with missing ratings.\")\n",
    "\n",
    "num_reviewers = df[\"userId\"].unique() #returns np-array with all unique user Id's\n",
    "num_movies = df[\"movieId\"].unique() #returns np-array with all unique movie Id's\n",
    "print(f\"2.: There are {num_reviewers.size} unique reviewers and {num_movies.size} unique movies.\") #prints out number of array elements\n",
    "\n",
    "average_reviews = df[\"userId\"].value_counts().mean() #calculates the mean of the number of instances of one specific userID\n",
    "average_reviews = format(average_reviews, \".2f\") #rounds the calculated mean to a 2digit decimal number\n",
    "print(f\"3.: Each user gave on average {average_reviews} reviews.\")\n",
    "\n",
    "average_reviewed = df[\"movieId\"].value_counts().mean() #calculates the mean of the number of instances of one specific movieID\n",
    "average_reviewed = format(average_reviewed, \".2f\") #rounds the calculated mean to a 2digit decimal number\n",
    "print(f\"4.: Each movie got {average_reviewed} reviews on average.\")\n",
    "\n",
    "print(f\"5.: There are {counted_ratings.loc[5.0]} 5-score and {counted_ratings.loc[1.0]} 1-score reviews\")\n",
    "\n",
    "print(\"6.: Distribution of mean scores over movies.\")\n",
    "distro_movie = df.pivot_table(index=\"movieId\", values=\"rating\") #pivot_table() groups by user Id and calculates the mean of rating\n",
    "histo_movie = distro_movie.hist(bins=20)\n",
    "\n",
    "print(\"7.: Distribution of mean scores over reviewer.\")\n",
    "distro_reviewer = df.pivot_table(index=\"userId\", values=\"rating\") #pivot_table() groups by movie Id and calculates the mean of rating\n",
    "histo_reviewer = distro_reviewer.hist(bins=20)\n",
    "\n"
   ]
  },
  {
   "cell_type": "code",
   "execution_count": null,
   "metadata": {},
   "outputs": [],
   "source": []
  }
 ],
 "metadata": {
  "kernelspec": {
   "display_name": "Python 3",
   "language": "python",
   "name": "python3"
  },
  "language_info": {
   "codemirror_mode": {
    "name": "ipython",
    "version": 3
   },
   "file_extension": ".py",
   "mimetype": "text/x-python",
   "name": "python",
   "nbconvert_exporter": "python",
   "pygments_lexer": "ipython3",
   "version": "3.8.5"
  }
 },
 "nbformat": 4,
 "nbformat_minor": 4
}
