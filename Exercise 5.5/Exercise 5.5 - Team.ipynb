{
 "cells": [
  {
   "cell_type": "markdown",
   "metadata": {},
   "source": [
    "### Exercise 5.5 - Group 6"
   ]
  },
  {
   "cell_type": "markdown",
   "metadata": {},
   "source": [
    "1. a function that takes a number and returns a list of its all possible factors \n",
    "(e.g. for 10, these are [1, 2, 5, 10]). Name this function \"factors\"\n",
    "\n",
    "2. a function that takes a number and returns \"True\" if the number is prime and \"False\" \n",
    "if the number is not prime. Name this function \"is_prime\"\n",
    "\n",
    "3. a function that takes two numbers and returns their Highest Common Factor \n",
    "(e.g. for 12 and 18, it is 6). Name this function \"hcf\""
   ]
  },
  {
   "cell_type": "code",
   "execution_count": 2,
   "metadata": {},
   "outputs": [
    {
     "name": "stdout",
     "output_type": "stream",
     "text": [
      "Enter a number: \n"
     ]
    },
    {
     "name": "stdin",
     "output_type": "stream",
     "text": [
      " 9\n"
     ]
    },
    {
     "name": "stdout",
     "output_type": "stream",
     "text": [
      "Factors: [1, 3, 9]\n",
      "Is It A Prime Number False\n",
      "Highest Common Factor 6\n"
     ]
    }
   ],
   "source": [
    "# EXERCISE 5.5\n",
    "\n",
    "# FUNCTION GET USER INPUT\n",
    "def get_user_input():\n",
    "    print('Enter a number: ')\n",
    "    #  GET USER INPUT\n",
    "    user_input = input()\n",
    "    # CHECK IF THE INPUT IS NUMERIC\n",
    "    if user_input.isnumeric():\n",
    "        # IF IT IS NUMERIC, MAKE SURE IT IS AN INTEGER\n",
    "        user_input = int(user_input)\n",
    "        # RETURN THE RESULT\n",
    "        return user_input\n",
    "    else:\n",
    "        # PRINT NOT A NUMBER\n",
    "        print(\"Not a Number\")\n",
    "    # RETURN THE RESULT\n",
    "    return user_input\n",
    "\n",
    "\n",
    "# CREATE A FACTOR FUNCTION\n",
    "def find_factors(number):\n",
    "    # CREATE A FACTOR LIST\n",
    "    factors = []\n",
    "    # FOR LOOP THAT INCREMENTS NUMBER FROM 1 (TO MAX OF NUMBER LENGTH)\n",
    "    # THEN CHECK IF NUMBER MODULUS WHOLE_NUMBER\n",
    "    # IF 0 THEN IT IS A FACTOR\n",
    "    for whole_number in range(1, number + 1):\n",
    "        # IF THE NUMBER MODULUS WHOLE_NUMBER == 0\n",
    "        if number % whole_number == 0:\n",
    "            # SAVE THIS TO A LIST FACTORS\n",
    "            factors.append(whole_number)\n",
    "    # RETURN THE RESULT\n",
    "    return factors\n",
    "\n",
    "\n",
    "# FUNCTION TO CHECK IF A NUMBER IS PRIME\n",
    "def is_prime(number):\n",
    "    # IF NUMBER IS LESS THEN 2 THEN NOT A PRIME\n",
    "    if number < 2:\n",
    "        return False\n",
    "    # INCREMENT NUMBER FROM 2 TO MAX OF NUMBER LENGTH\n",
    "    for i in range(2, number):\n",
    "        # IF THIS NUMBER MODULUS 2 IS 0 THEN PRIME\n",
    "        if not number % i:\n",
    "            # RETURN FALSE\n",
    "            return False\n",
    "    # ELSE RETURN TRUE\n",
    "    return True \n",
    "\n",
    "\n",
    "# HIGHEST COMMON FACTOR TAKES IN TWO NUMBERS\n",
    "def hcf(number_x, number_y):\n",
    "    # THIS IF ELSE STATEMENT WILL\n",
    "    # SWAP THE NUBERS IF NUMBER X IS SMALLER THEN NUMBER Y\n",
    "    if number_x > number_y:\n",
    "        x = number_y\n",
    "    else:\n",
    "        x = number_x\n",
    "    # WHILE LOOP X IS LAREGR THEN 1\n",
    "    # CHECK IF NUMBER X AND Y MODULUS X IS 0, IF NOT, \n",
    "    # KEEP SUBTRACTING 1 FROM X UNTIL MODULUS X, Y = 0\n",
    "    while x > 1:\n",
    "        if number_x % x == 0 and number_y % x == 0:\n",
    "            break\n",
    "        x -= 1\n",
    "    # RETURN X AS THE HIGHEST COMMON FACTOR\n",
    "    return x\n",
    "        \n",
    "# TRY EXECUTE THE CODE AND REPORT ANY ERRORS\n",
    "try:\n",
    "    # GET THE USER INPUT\n",
    "    user_input = get_user_input()\n",
    "    # PASS THE USER INPUT INTO THE CHECK FACTORS FUNCTION\n",
    "    check_factors = find_factors(user_input)\n",
    "    # PASS THE USER INPUT INTO THE CHECK PRIME FUNCTION\n",
    "    check_prime = is_prime(user_input)\n",
    "    # GET THE HIGHEST COMMON FACTOR\n",
    "    check_hcf = hcf(18, 12)\n",
    "    \n",
    "    # PRINT THE OUTPUTS FOR FACTORS\n",
    "    print('Factors:', check_factors)\n",
    "    # PRIME NUMBERS\n",
    "    print('Is It A Prime Number', check_prime)\n",
    "    # HIGHEST COMMON FACTORS\n",
    "    print('Highest Common Factor', check_hcf)\n",
    "\n",
    "# CATCH ANY ERRORS\n",
    "except:\n",
    "    print(\"An Error Occured\")"
   ]
  },
  {
   "cell_type": "code",
   "execution_count": null,
   "metadata": {},
   "outputs": [],
   "source": []
  }
 ],
 "metadata": {
  "kernelspec": {
   "display_name": "Python 3",
   "language": "python",
   "name": "python3"
  },
  "language_info": {
   "codemirror_mode": {
    "name": "ipython",
    "version": 3
   },
   "file_extension": ".py",
   "mimetype": "text/x-python",
   "name": "python",
   "nbconvert_exporter": "python",
   "pygments_lexer": "ipython3",
   "version": "3.8.5"
  }
 },
 "nbformat": 4,
 "nbformat_minor": 4
}
