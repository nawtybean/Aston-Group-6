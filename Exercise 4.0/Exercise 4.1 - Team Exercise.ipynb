{
 "cells": [
  {
   "cell_type": "markdown",
   "metadata": {},
   "source": [
    "### Exercise 4.1 - Group 6"
   ]
  },
  {
   "cell_type": "markdown",
   "metadata": {},
   "source": [
    "1. reads the contents of \"aston.txt\" (file can be downloaded via the downloads tab below)\n",
    "\n",
    "2. finds all unique words from the file\n",
    "\n",
    "3. prints them to a file called \"unique_words.txt\", sorted alphabetically\n",
    "\n",
    "4. finds the longest word in the file and prints it to the screen."
   ]
  },
  {
   "cell_type": "code",
   "execution_count": 3,
   "metadata": {},
   "outputs": [
    {
     "name": "stdout",
     "output_type": "stream",
     "text": [
      "The number of words in the list is: 333\n",
      "The shortest word in the list is: &\n",
      "The longest word in the list is: apprenticeship\n"
     ]
    }
   ],
   "source": [
    "''' \n",
    "1. I noted that aston.txt needs some work in order to achieve the requirements.\n",
    "\n",
    "1a. There are citation brackets throughout the text in the form of [1], [2], etc.\n",
    "These need to removed, but becareful not to remove the dates and\n",
    "other information in normal brackets ()\n",
    "\n",
    "1b. There may be instances of words with apostrophes like 's or s'.\n",
    "These need to cleaned, i.e. it's and its to become it,\n",
    "as it's and its could skew the result.\n",
    "\n",
    "1c. The entire text needs to be either uppercase or lowercase to avoid us \n",
    "picking up duplicates. i.e. Major and major are essentially the same word, \n",
    "but to python, they different words as python it is case senstitve.\n",
    "\n",
    "'''\n",
    "\n",
    "# IMPORT REGULAR EXPRESSIONS\n",
    "import re\n",
    "\n",
    "# OPEN THE FILE ASTON.TXT\n",
    "text_file = open('aston.txt', 'r')\n",
    "# READ THE FILE AND SAVE TO THE TEXT VARIABLE\n",
    "text = text_file.read()\n",
    "# LOWERCASE ALL TEXT\n",
    "text = text.lower()\n",
    "# RE SUB WILL REPLACE ONE OR MANY MATCHES WITH A STRING\n",
    "new_words = re.sub(\"[\\(\\[].*?[\\)\\]]\", \"\", text)\n",
    "# SPLIT THE WORDS\n",
    "words = new_words.split()\n",
    "# LETS CLEAN THE TEXT\n",
    "words = [word.strip('.,!;()[]:') for word in words]\n",
    "# CLEAN THE IT'S TO ITS\n",
    "words = [word.replace(\"'s\", '') for word in words]\n",
    "\n",
    "# CREATE A BLANK UNIQUE LIST\n",
    "# SAVE ALL UNIQUE WORDS TO A LIST\n",
    "# BY LOOPING THROUGH THE BODY OF THE TEXT\n",
    "unique = []\n",
    "for word in words:\n",
    "    if word not in unique:\n",
    "        unique.append(word)\n",
    "# SORT THE UNIQUE LIST\n",
    "unique.sort()\n",
    "\n",
    "# GET THE TOTAL UNIQUE WORDS\n",
    "total_words = len(unique)\n",
    "# GET THE SHORTEST WORD\n",
    "shortest_string = min(unique, key=len)\n",
    "# GET THE LONGEST WORD\n",
    "longest_string = max(unique, key=len)\n",
    "\n",
    "# PRINT THE OUTPUTS\n",
    "print(f\"The number of words in the list is: {total_words}\")\n",
    "print(f\"The shortest word in the list is: {shortest_string}\")\n",
    "print(f\"The longest word in the list is: {longest_string}\")\n",
    "\n",
    "# OPEN A FILE HANDLER AND CREATE A NEW TXT FILE\n",
    "with open('unique_words.txt', 'w') as file_handler:\n",
    "    # LOOP THROUGH THE UNIQUE LIST\n",
    "    for list_item in unique:\n",
    "        # SAVE ALL UNIQUE WORDS TO A LIST\n",
    "        file_handler.write('%s\\n' % list_item)"
   ]
  },
  {
   "cell_type": "code",
   "execution_count": null,
   "metadata": {},
   "outputs": [],
   "source": []
  }
 ],
 "metadata": {
  "kernelspec": {
   "display_name": "Python 3",
   "language": "python",
   "name": "python3"
  },
  "language_info": {
   "codemirror_mode": {
    "name": "ipython",
    "version": 3
   },
   "file_extension": ".py",
   "mimetype": "text/x-python",
   "name": "python",
   "nbconvert_exporter": "python",
   "pygments_lexer": "ipython3",
   "version": "3.8.5"
  }
 },
 "nbformat": 4,
 "nbformat_minor": 4
}
